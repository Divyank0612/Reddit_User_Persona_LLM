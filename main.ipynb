{
 "cells": [
  {
   "cell_type": "code",
   "execution_count": 1,
   "id": "a142b7f7",
   "metadata": {},
   "outputs": [],
   "source": [
    "import sys\n",
    "import os\n",
    "\n",
    "# Add the project root or 'src' folder to the system path\n",
    "sys.path.append(os.path.abspath(\"src\"))"
   ]
  },
  {
   "cell_type": "code",
   "execution_count": 6,
   "id": "b443cca7",
   "metadata": {},
   "outputs": [
    {
     "name": "stdout",
     "output_type": "stream",
     "text": [
      "User Profile: {'name': 'Hungry-Move-6603', 'karma': {'link_karma': 117, 'comment_karma': 30}, 'cake_day': '1617655638.0'}\n",
      "Collected 3 posts.\n",
      "Collected 12 comments.\n"
     ]
    }
   ],
   "source": [
    "from reddit_scraper.fetch_user_data import RedditUserScraper\n",
    "from util.helpers import extract_username_from_url\n",
    "\n",
    "# Reddit API Credentials \n",
    "CLIENT_ID = \"mjgzbRl8_atP6jdED7LBKQ\"\n",
    "CLIENT_SECRET = \"DhwAhQ8ay8s35I9uM1l7ued4nr1wVw\"\n",
    "USER_AGENT = \"UserPersonaBuilder by /u/Whole_Gap7210\"\n",
    "\n",
    "# Example Reddit URL\n",
    "url = \"https://www.reddit.com/user/Hungry-Move-6603/\"\n",
    "\n",
    "# Extract Username\n",
    "username = extract_username_from_url(url)\n",
    "\n",
    "# Initialize scraper\n",
    "scraper = RedditUserScraper(CLIENT_ID, CLIENT_SECRET, USER_AGENT)\n",
    "\n",
    "# Fetch profile data\n",
    "profile = scraper.get_user_profile(username)\n",
    "print(\"User Profile:\", profile)\n",
    "\n",
    "# Fetch posts\n",
    "posts = scraper.get_user_submissions(username)\n",
    "print(f\"Collected {len(posts)} posts.\")\n",
    "\n",
    "# Fetch comments\n",
    "comments = scraper.get_user_comments(username)\n",
    "print(f\"Collected {len(comments)} comments.\")\n"
   ]
  },
  {
   "cell_type": "code",
   "execution_count": 7,
   "id": "63d65e3e",
   "metadata": {},
   "outputs": [
    {
     "name": "stdout",
     "output_type": "stream",
     "text": [
      "Cleaned posts and comments saved!\n"
     ]
    }
   ],
   "source": [
    "from util.text_cleaning import clean_text\n",
    "import pandas as pd\n",
    "\n",
    "# For posts\n",
    "cleaned_posts = []\n",
    "for post in posts:\n",
    "    text = post[\"title\"] + \" \" + post[\"body\"]\n",
    "    cleaned = clean_text(text)\n",
    "    cleaned_posts.append({\n",
    "        \"original\": text,\n",
    "        \"cleaned\": cleaned,\n",
    "        \"subreddit\": post[\"subreddit\"],\n",
    "        \"url\": post[\"url\"]\n",
    "    })\n",
    "\n",
    "# For comments\n",
    "cleaned_comments = []\n",
    "for comment in comments:\n",
    "    text = comment[\"body\"]\n",
    "    cleaned = clean_text(text)\n",
    "    cleaned_comments.append({\n",
    "        \"original\": text,\n",
    "        \"cleaned\": cleaned,\n",
    "        \"subreddit\": comment[\"subreddit\"],\n",
    "        \"url\": comment[\"link_url\"]\n",
    "    })\n",
    "\n",
    "\n",
    "# Convert cleaned posts to DataFrame\n",
    "df_posts = pd.DataFrame(cleaned_posts)\n",
    "df_comments = pd.DataFrame(cleaned_comments)\n",
    "\n",
    "# Save to CSV\n",
    "df_posts.to_csv(\"cleaned_reddit_posts.csv\", index=False)\n",
    "df_comments.to_csv(\"cleaned_reddit_comments.csv\", index=False)\n",
    "\n",
    "print(\"Cleaned posts and comments saved!\")\n",
    "\n"
   ]
  },
  {
   "cell_type": "code",
   "execution_count": 8,
   "id": "d3d578d5",
   "metadata": {},
   "outputs": [
    {
     "name": "stdout",
     "output_type": "stream",
     "text": [
      "Input text length: 2551\n",
      "Sample input: [Post #1]\n",
      "Text: read cafe / reader ' club ? remove\n",
      "URL: https://www.reddit.com/r/lucknow/comments/1lzuq0r/reading_cafe_reader_club/\n",
      "\n",
      "[Post #2]\n",
      "Text: productive weekend activity lko ? remove\n",
      "URL: https://www.reddit.com/r/lucknow/comments/1lx50qm/productive_weekend_activities_in_lko/\n",
      "\n",
      "[Post #3]\n",
      "Text: lko bear raise delhi - shift lko dec 24 business purpose . hardly see car sticker - uttar pradesh sarkar , adhiwakta , nyay palika , mahamantri , skoda laura , adrak lsson . \n",
      "\n",
      "\n",
      " obsession peep .\n",
      "URL: \n",
      "Raw Ollama response: model='llama3:latest' created_at='2025-07-16T13:25:23.2988718Z' done=True done_reason='stop' total_duration=214276979900 load_duration=294230300 prompt_eval_count=1217 prompt_eval_duration=11884369400 eval_count=631 eval_duration=201768447900 message=Message(role='assistant', content='Based on the provided Reddit posts and comments, I will extract the personal details to create a comprehensive user persona.\\n\\n**Name/Nickname:** None mentioned explicitly, but based on the content and tone of the posts, I\\'ll nickname him \"LkoPeep\" (a reference to his self-proclaimed obsession with Lucknow).\\n\\n**Age/Stage of Life:** The age is not explicitly stated, but considering the tone and language used, I\\'d estimate LkoPeep to be in his mid-to-late 20s or early 30s.\\n\\n**Location:** Lucknow, India (referred to multiple times as \"LKO\" in posts and comments).\\n\\n**Occupation/Education:** Not explicitly mentioned. However, based on the content and tone of the posts, I infer that LkoPeep might be a student or someone who spends significant time online.\\n\\n**Interests & Hobbies:**\\n\\n* Reading (mentioned in Post #1)\\n* Productive weekend activities (Post #2)\\n* Lucknow-centric discussions and observations (Posts #3-7)\\n* Healthy cooking and food-related topics (Comment #6, #11)\\n\\n**Values/Beliefs:**\\n\\n* Strong sense of regional identity and pride for Lucknow\\n* Critical views on corruption and bribery (Comments #3, #4, #10)\\n* Advocacy for healthy eating habits (Comments #6, #11)\\n\\n**Pain Points / Challenges:**\\n\\n* Frustration with corruption and bribery in everyday life (Comments #3, #4, #10)\\n* Concerns about the quality of food and services in Lucknow (Comments #6, #11)\\n\\n**Motivations:**\\n\\n* Passion for sharing his experiences and observations about Lucknow\\n* Desire to create a sense of community among fellow Lucknow residents\\n* Interest in promoting healthy eating habits\\n\\n**Personality Traits:**\\n\\n* Direct and blunt in expressing his opinions (Comments #3, #4, #10)\\n* Enthusiastic and passionate about sharing his experiences (Posts #1-7)\\n* Possibly introverted or preferring online interactions over in-person discussions (inferred from the tone and language used)\\n\\n**Content Tone:** Conversational, enthusiastic, and slightly sarcastic. LkoPeep often uses colloquial expressions and regional references.\\n\\n**Unknown Traits Handling:**\\n\\nI couldn\\'t find direct information about LkoPeep\\'s educational background or occupation. However, based on his writing style and topics of interest, I inferred that he might be a student or someone who spends significant time online.\\n\\n**User Metadata:**\\n\\n* **Link Karma:** Not applicable (as most posts are comments)\\n* **Comment Karma:** N/A\\n* **Account Creation Date (Cake Day):** 2021-04-05\\n\\nGiven the high number of comments and posts, LkoPeep likely enjoys participating in discussions and sharing his thoughts with others. His enthusiasm for Lucknow-related topics suggests a strong sense of regional identity and pride.\\n\\nPlease note that this persona is based on a limited dataset and might not be representative of the entire user\\'s personality or behavior.', thinking=None, images=None, tool_calls=None)\n",
      "\n",
      "--- Persona Extracted ---\n",
      "\n",
      "Based on the provided Reddit posts and comments, I will extract the personal details to create a comprehensive user persona.\n",
      "\n",
      "**Name/Nickname:** None mentioned explicitly, but based on the content and tone of the posts, I'll nickname him \"LkoPeep\" (a reference to his self-proclaimed obsession with Lucknow).\n",
      "\n",
      "**Age/Stage of Life:** The age is not explicitly stated, but considering the tone and language used, I'd estimate LkoPeep to be in his mid-to-late 20s or early 30s.\n",
      "\n",
      "**Location:** Lucknow, India (referred to multiple times as \"LKO\" in posts and comments).\n",
      "\n",
      "**Occupation/Education:** Not explicitly mentioned. However, based on the content and tone of the posts, I infer that LkoPeep might be a student or someone who spends significant time online.\n",
      "\n",
      "**Interests & Hobbies:**\n",
      "\n",
      "* Reading (mentioned in Post #1)\n",
      "* Productive weekend activities (Post #2)\n",
      "* Lucknow-centric discussions and observations (Posts #3-7)\n",
      "* Healthy cooking and food-related topics (Comment #6, #11)\n",
      "\n",
      "**Values/Beliefs:**\n",
      "\n",
      "* Strong sense of regional identity and pride for Lucknow\n",
      "* Critical views on corruption and bribery (Comments #3, #4, #10)\n",
      "* Advocacy for healthy eating habits (Comments #6, #11)\n",
      "\n",
      "**Pain Points / Challenges:**\n",
      "\n",
      "* Frustration with corruption and bribery in everyday life (Comments #3, #4, #10)\n",
      "* Concerns about the quality of food and services in Lucknow (Comments #6, #11)\n",
      "\n",
      "**Motivations:**\n",
      "\n",
      "* Passion for sharing his experiences and observations about Lucknow\n",
      "* Desire to create a sense of community among fellow Lucknow residents\n",
      "* Interest in promoting healthy eating habits\n",
      "\n",
      "**Personality Traits:**\n",
      "\n",
      "* Direct and blunt in expressing his opinions (Comments #3, #4, #10)\n",
      "* Enthusiastic and passionate about sharing his experiences (Posts #1-7)\n",
      "* Possibly introverted or preferring online interactions over in-person discussions (inferred from the tone and language used)\n",
      "\n",
      "**Content Tone:** Conversational, enthusiastic, and slightly sarcastic. LkoPeep often uses colloquial expressions and regional references.\n",
      "\n",
      "**Unknown Traits Handling:**\n",
      "\n",
      "I couldn't find direct information about LkoPeep's educational background or occupation. However, based on his writing style and topics of interest, I inferred that he might be a student or someone who spends significant time online.\n",
      "\n",
      "**User Metadata:**\n",
      "\n",
      "* **Link Karma:** Not applicable (as most posts are comments)\n",
      "* **Comment Karma:** N/A\n",
      "* **Account Creation Date (Cake Day):** 2021-04-05\n",
      "\n",
      "Given the high number of comments and posts, LkoPeep likely enjoys participating in discussions and sharing his thoughts with others. His enthusiasm for Lucknow-related topics suggests a strong sense of regional identity and pride.\n",
      "\n",
      "Please note that this persona is based on a limited dataset and might not be representative of the entire user's personality or behavior.\n"
     ]
    },
    {
     "data": {
      "text/plain": [
       "'Based on the provided Reddit posts and comments, I will extract the personal details to create a comprehensive user persona.\\n\\n**Name/Nickname:** None mentioned explicitly, but based on the content and tone of the posts, I\\'ll nickname him \"LkoPeep\" (a reference to his self-proclaimed obsession with Lucknow).\\n\\n**Age/Stage of Life:** The age is not explicitly stated, but considering the tone and language used, I\\'d estimate LkoPeep to be in his mid-to-late 20s or early 30s.\\n\\n**Location:** Lucknow, India (referred to multiple times as \"LKO\" in posts and comments).\\n\\n**Occupation/Education:** Not explicitly mentioned. However, based on the content and tone of the posts, I infer that LkoPeep might be a student or someone who spends significant time online.\\n\\n**Interests & Hobbies:**\\n\\n* Reading (mentioned in Post #1)\\n* Productive weekend activities (Post #2)\\n* Lucknow-centric discussions and observations (Posts #3-7)\\n* Healthy cooking and food-related topics (Comment #6, #11)\\n\\n**Values/Beliefs:**\\n\\n* Strong sense of regional identity and pride for Lucknow\\n* Critical views on corruption and bribery (Comments #3, #4, #10)\\n* Advocacy for healthy eating habits (Comments #6, #11)\\n\\n**Pain Points / Challenges:**\\n\\n* Frustration with corruption and bribery in everyday life (Comments #3, #4, #10)\\n* Concerns about the quality of food and services in Lucknow (Comments #6, #11)\\n\\n**Motivations:**\\n\\n* Passion for sharing his experiences and observations about Lucknow\\n* Desire to create a sense of community among fellow Lucknow residents\\n* Interest in promoting healthy eating habits\\n\\n**Personality Traits:**\\n\\n* Direct and blunt in expressing his opinions (Comments #3, #4, #10)\\n* Enthusiastic and passionate about sharing his experiences (Posts #1-7)\\n* Possibly introverted or preferring online interactions over in-person discussions (inferred from the tone and language used)\\n\\n**Content Tone:** Conversational, enthusiastic, and slightly sarcastic. LkoPeep often uses colloquial expressions and regional references.\\n\\n**Unknown Traits Handling:**\\n\\nI couldn\\'t find direct information about LkoPeep\\'s educational background or occupation. However, based on his writing style and topics of interest, I inferred that he might be a student or someone who spends significant time online.\\n\\n**User Metadata:**\\n\\n* **Link Karma:** Not applicable (as most posts are comments)\\n* **Comment Karma:** N/A\\n* **Account Creation Date (Cake Day):** 2021-04-05\\n\\nGiven the high number of comments and posts, LkoPeep likely enjoys participating in discussions and sharing his thoughts with others. His enthusiasm for Lucknow-related topics suggests a strong sense of regional identity and pride.\\n\\nPlease note that this persona is based on a limited dataset and might not be representative of the entire user\\'s personality or behavior.'"
      ]
     },
     "execution_count": 8,
     "metadata": {},
     "output_type": "execute_result"
    }
   ],
   "source": [
    "from util.llm_persona_extractor import extract_persona_llm\n",
    "\n",
    "# After cleaning:\n",
    "extract_persona_llm(cleaned_posts, cleaned_comments,username,profile)"
   ]
  },
  {
   "cell_type": "code",
   "execution_count": null,
   "id": "ddfa3c91",
   "metadata": {},
   "outputs": [],
   "source": []
  }
 ],
 "metadata": {
  "kernelspec": {
   "display_name": "moco_env",
   "language": "python",
   "name": "python3"
  },
  "language_info": {
   "codemirror_mode": {
    "name": "ipython",
    "version": 3
   },
   "file_extension": ".py",
   "mimetype": "text/x-python",
   "name": "python",
   "nbconvert_exporter": "python",
   "pygments_lexer": "ipython3",
   "version": "3.9.21"
  }
 },
 "nbformat": 4,
 "nbformat_minor": 5
}
